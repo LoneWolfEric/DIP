{
 "cells": [
  {
   "cell_type": "code",
   "execution_count": 1,
   "metadata": {},
   "outputs": [],
   "source": [
    "import numpy as np\n",
    "import matplotlib.pyplot as plt\n",
    "import cv2"
   ]
  },
  {
   "cell_type": "code",
   "execution_count": 2,
   "metadata": {},
   "outputs": [],
   "source": [
    "def Shrink_img(img, step):\n",
    "    m,n = img.shape\n",
    "    small_img = np.zeros((int(m / step), int(n / step)), np.uint8)\n",
    "    for i in range(int(m / step)):\n",
    "        for j in range(int(n / step)):\n",
    "                small_img[i, j] = img[i * step, j * step]\n",
    "    return small_img"
   ]
  },
  {
   "cell_type": "code",
   "execution_count": 3,
   "metadata": {},
   "outputs": [
    {
     "data": {
      "text/plain": [
       "(56, 77)"
      ]
     },
     "execution_count": 3,
     "metadata": {},
     "output_type": "execute_result"
    },
    {
     "data": {
      "image/png": "[encoded data removed]",
      "text/plain": [
       "<Figure size 864x1152 with 1 Axes>"
      ]
     },
     "metadata": {
      "needs_background": "light"
     },
     "output_type": "display_data"
    },
    {
     "data": {
      "image/png": "[encoded data removed]",
      "text/plain": [
       "<Figure size 864x1152 with 1 Axes>"
      ]
     },
     "metadata": {
      "needs_background": "light"
     },
     "output_type": "display_data"
    }
   ],
   "source": [
    "img = cv2.imread(\"Beer/Good/0.tif\")#读入图像\n",
    "image = cv2.cvtColor(img, cv2.COLOR_BGR2GRAY)#将图像转化为灰度图像\n",
    "small_img = Shrink_img(image, 50)\n",
    "plt.figure(figsize=(12, 16))\n",
    "plt.imshow(small_img, cmap='gray')\n",
    "canny = cv2.Canny(small_img, 80, 180)\n",
    "m, n = canny.shape\n",
    "canny = canny[2: m - 2, 2: n - 2]\n",
    "cv2.imwrite(\"canny.jpeg\", canny)\n",
    "plt.figure(figsize=(12, 16))\n",
    "plt.imshow(canny, cmap='gray')\n",
    "canny.shape"
   ]
  },
  {
   "cell_type": "code",
   "execution_count": 4,
   "metadata": {},
   "outputs": [
    {
     "data": {
      "text/plain": [
       "array([[11, 20],\n",
       "       [11, 21],\n",
       "       [11, 22],\n",
       "       [11, 23],\n",
       "       [12, 19],\n",
       "       [12, 20],\n",
       "       [12, 23],\n",
       "       [12, 24],\n",
       "       [12, 37],\n",
       "       [12, 38],\n",
       "       [12, 39],\n",
       "       [12, 48],\n",
       "       [12, 49],\n",
       "       [12, 50],\n",
       "       [12, 51],\n",
       "       [12, 63],\n",
       "       [13, 19],\n",
       "       [13, 23],\n",
       "       [13, 35],\n",
       "       [13, 36],\n",
       "       [13, 39],\n",
       "       [13, 47],\n",
       "       [13, 51],\n",
       "       [13, 63],\n",
       "       [13, 65],\n",
       "       [14, 19],\n",
       "       [14, 20],\n",
       "       [14, 22],\n",
       "       [14, 23],\n",
       "       [14, 34],\n",
       "       [14, 37],\n",
       "       [14, 39],\n",
       "       [14, 47],\n",
       "       [14, 51],\n",
       "       [14, 63],\n",
       "       [14, 68],\n",
       "       [15, 20],\n",
       "       [15, 21],\n",
       "       [15, 22],\n",
       "       [15, 34],\n",
       "       [15, 35],\n",
       "       [15, 38],\n",
       "       [15, 47],\n",
       "       [15, 48],\n",
       "       [15, 50],\n",
       "       [15, 51],\n",
       "       [15, 63],\n",
       "       [15, 64],\n",
       "       [15, 66],\n",
       "       [15, 67],\n",
       "       [16, 35],\n",
       "       [16, 36],\n",
       "       [16, 37],\n",
       "       [16, 38],\n",
       "       [16, 48],\n",
       "       [16, 49],\n",
       "       [16, 50],\n",
       "       [16, 65],\n",
       "       [16, 66],\n",
       "       [26, 23],\n",
       "       [26, 24],\n",
       "       [26, 25],\n",
       "       [26, 34],\n",
       "       [26, 35],\n",
       "       [26, 36],\n",
       "       [26, 37],\n",
       "       [26, 48],\n",
       "       [26, 49],\n",
       "       [26, 50],\n",
       "       [26, 63],\n",
       "       [26, 64],\n",
       "       [26, 65],\n",
       "       [26, 66],\n",
       "       [27, 20],\n",
       "       [27, 21],\n",
       "       [27, 23],\n",
       "       [27, 25],\n",
       "       [27, 34],\n",
       "       [27, 37],\n",
       "       [27, 48],\n",
       "       [27, 50],\n",
       "       [27, 63],\n",
       "       [27, 66],\n",
       "       [28, 20],\n",
       "       [28, 25],\n",
       "       [28, 33],\n",
       "       [28, 34],\n",
       "       [28, 35],\n",
       "       [28, 38],\n",
       "       [28, 48],\n",
       "       [28, 50],\n",
       "       [28, 51],\n",
       "       [28, 52],\n",
       "       [28, 63],\n",
       "       [28, 66],\n",
       "       [29, 20],\n",
       "       [29, 21],\n",
       "       [29, 24],\n",
       "       [29, 25],\n",
       "       [29, 33],\n",
       "       [29, 38],\n",
       "       [29, 48],\n",
       "       [29, 52],\n",
       "       [29, 63],\n",
       "       [29, 66],\n",
       "       [30, 22],\n",
       "       [30, 23],\n",
       "       [30, 33],\n",
       "       [30, 34],\n",
       "       [30, 35],\n",
       "       [30, 36],\n",
       "       [30, 37],\n",
       "       [30, 48],\n",
       "       [30, 49],\n",
       "       [30, 50],\n",
       "       [30, 51],\n",
       "       [30, 52],\n",
       "       [30, 64],\n",
       "       [30, 65],\n",
       "       [30, 66],\n",
       "       [39, 35],\n",
       "       [39, 36],\n",
       "       [39, 37],\n",
       "       [40, 19],\n",
       "       [40, 20],\n",
       "       [40, 21],\n",
       "       [40, 34],\n",
       "       [40, 35],\n",
       "       [40, 37],\n",
       "       [40, 38],\n",
       "       [41, 19],\n",
       "       [41, 22],\n",
       "       [41, 23],\n",
       "       [41, 34],\n",
       "       [41, 38],\n",
       "       [41, 47],\n",
       "       [41, 48],\n",
       "       [41, 49],\n",
       "       [41, 50],\n",
       "       [41, 51],\n",
       "       [41, 62],\n",
       "       [41, 63],\n",
       "       [41, 64],\n",
       "       [41, 65],\n",
       "       [41, 66],\n",
       "       [42, 19],\n",
       "       [42, 23],\n",
       "       [42, 34],\n",
       "       [42, 35],\n",
       "       [42, 38],\n",
       "       [42, 47],\n",
       "       [42, 49],\n",
       "       [42, 51],\n",
       "       [42, 52],\n",
       "       [42, 62],\n",
       "       [42, 66],\n",
       "       [43, 18],\n",
       "       [43, 22],\n",
       "       [43, 23],\n",
       "       [43, 35],\n",
       "       [43, 36],\n",
       "       [43, 37],\n",
       "       [43, 38],\n",
       "       [43, 47],\n",
       "       [43, 52],\n",
       "       [43, 62],\n",
       "       [43, 63],\n",
       "       [43, 66],\n",
       "       [44, 19],\n",
       "       [44, 22],\n",
       "       [44, 47],\n",
       "       [44, 48],\n",
       "       [44, 51],\n",
       "       [44, 52],\n",
       "       [44, 63],\n",
       "       [44, 64],\n",
       "       [44, 66],\n",
       "       [45, 19],\n",
       "       [45, 20],\n",
       "       [45, 21],\n",
       "       [45, 48],\n",
       "       [45, 49],\n",
       "       [45, 50],\n",
       "       [45, 51],\n",
       "       [45, 64],\n",
       "       [45, 65],\n",
       "       [45, 66]])"
      ]
     },
     "execution_count": 4,
     "metadata": {},
     "output_type": "execute_result"
    }
   ],
   "source": [
    "img_x, img_y = canny.shape\n",
    "a, b = np.where(canny==255)\n",
    "edge_T = np.vstack((a, b))\n",
    "edge = edge_T.T\n",
    "edge"
   ]
  },
  {
   "cell_type": "markdown",
   "metadata": {},
   "source": [
    "和图片看起来位置对应的图"
   ]
  },
  {
   "cell_type": "code",
   "execution_count": 5,
   "metadata": {},
   "outputs": [
    {
     "data": {
      "text/plain": [
       "<matplotlib.collections.PathCollection at 0x7fe9558c14e0>"
      ]
     },
     "execution_count": 5,
     "metadata": {},
     "output_type": "execute_result"
    },
    {
     "data": {
      "image/png": "[encoded data removed]",
      "text/plain": [
       "<Figure size 864x576 with 1 Axes>"
      ]
     },
     "metadata": {
      "needs_background": "light"
     },
     "output_type": "display_data"
    }
   ],
   "source": [
    "fig, ax = plt.subplots(figsize=(12,8))\n",
    "plt.xlim(0, img_y)\n",
    "plt.ylim(0, img_x)\n",
    "ax.scatter(edge[:, 1], img_x-edge[:, 0], s = 40)"
   ]
  },
  {
   "cell_type": "markdown",
   "metadata": {},
   "source": [
    "根据数字坐标画出来的图"
   ]
  },
  {
   "cell_type": "code",
   "execution_count": 6,
   "metadata": {},
   "outputs": [
    {
     "data": {
      "text/plain": [
       "<matplotlib.collections.PathCollection at 0x7fe95581e940>"
      ]
     },
     "execution_count": 6,
     "metadata": {},
     "output_type": "execute_result"
    },
    {
     "data": {
      "image/png": "[encoded data removed]",
      "text/plain": [
       "<Figure size 864x576 with 1 Axes>"
      ]
     },
     "metadata": {
      "needs_background": "light"
     },
     "output_type": "display_data"
    }
   ],
   "source": [
    "fig, ax = plt.subplots(figsize=(12,8))\n",
    "plt.xlim(0, img_y)\n",
    "plt.ylim(0, img_x)\n",
    "ax.scatter(edge[:, 1], edge[:, 0], s = 40)"
   ]
  },
  {
   "cell_type": "code",
   "execution_count": 7,
   "metadata": {},
   "outputs": [
    {
     "data": {
      "text/plain": [
       "(41.962566844919785, 41.962566844919785)"
      ]
     },
     "execution_count": 7,
     "metadata": {},
     "output_type": "execute_result"
    }
   ],
   "source": [
    "x_center, y_center = edge[:, 1].mean(), edge[:, 1].mean()\n",
    "x_center,y_center"
   ]
  },
  {
   "cell_type": "code",
   "execution_count": 8,
   "metadata": {},
   "outputs": [
    {
     "data": {
      "text/plain": [
       "(12, 2)"
      ]
     },
     "execution_count": 8,
     "metadata": {},
     "output_type": "execute_result"
    }
   ],
   "source": [
    "initial_centroids = np.array([[13, 21], [15, 37], [14, 49], [13, 65], [28, 22], [28, 36],[28, 50], [28, 65], [43, 22], [43, 37],[43, 50], [43, 65]])\n",
    "initial_centroids.shape"
   ]
  },
  {
   "cell_type": "code",
   "execution_count": 9,
   "metadata": {},
   "outputs": [
    {
     "data": {
      "text/plain": [
       "<matplotlib.collections.PathCollection at 0x7fe9557fdcf8>"
      ]
     },
     "execution_count": 9,
     "metadata": {},
     "output_type": "execute_result"
    },
    {
     "data": {
      "image/png": "[encoded data removed]",
      "text/plain": [
       "<Figure size 864x576 with 1 Axes>"
      ]
     },
     "metadata": {
      "needs_background": "light"
     },
     "output_type": "display_data"
    }
   ],
   "source": [
    "fig, ax = plt.subplots(figsize=(12,8))\n",
    "plt.xlim(0, img_y)\n",
    "plt.ylim(0, img_x)\n",
    "ax.scatter(edge[:, 1], edge[:, 0], s = 40)\n",
    "ax.scatter(initial_centroids[:, 1], initial_centroids[:, 0], s = 100, c = 'r')"
   ]
  },
  {
   "cell_type": "code",
   "execution_count": 10,
   "metadata": {},
   "outputs": [],
   "source": [
    "# 初始化聚类中心\n",
    "def init_centroids(X):\n",
    "    x_center, y_center = X[:, 1].mean(), X[:, 1].mean()\n",
    "    \n",
    "    \n",
    "#     centroids = np.zeros((k, n))\n",
    "#     idx = np.random.randint(0, m, k)\n",
    "    \n",
    "#     for i in range(k):\n",
    "#         centroids[i,:] = X[idx[i],:]\n",
    "    \n",
    "#     return centroids"
   ]
  },
  {
   "cell_type": "code",
   "execution_count": 11,
   "metadata": {},
   "outputs": [],
   "source": [
    "# 给每个点分配最近的聚类中心\n",
    "def find_closest_centroids(X, centroids):\n",
    "    m = X.shape[0]\n",
    "    k = centroids.shape[0]\n",
    "    \n",
    "    idx = np.zeros(m)\n",
    "    \n",
    "    for i in range(m):\n",
    "        min_dist = 10000000000000000000000000000000000000000000000\n",
    "        for j in range(k):\n",
    "            dist = np.sum((X[i,:] - centroids[j,:]) ** 2)\n",
    "            if dist < min_dist:\n",
    "                min_dist = dist\n",
    "                idx[i] = j\n",
    "    \n",
    "    return idx"
   ]
  },
  {
   "cell_type": "code",
   "execution_count": 12,
   "metadata": {},
   "outputs": [
    {
     "data": {
      "text/plain": [
       "(187,)"
      ]
     },
     "metadata": {},
     "output_type": "display_data"
    }
   ],
   "source": [
    "idx = find_closest_centroids(edge, initial_centroids)\n",
    "display(idx.shape)"
   ]
  },
  {
   "cell_type": "code",
   "execution_count": 13,
   "metadata": {},
   "outputs": [],
   "source": [
    "# 计算新的聚类中心\n",
    "def compute_centroids(X, idx, k):\n",
    "    m, n = X.shape\n",
    "    centroids = np.zeros((k, n))\n",
    "    \n",
    "    for i in range(k):\n",
    "        indices = np.where(idx == i)\n",
    "        centroids[i,:] = (np.sum(X[indices,:], axis=1) / len(indices[0])).ravel()\n",
    "    \n",
    "    return centroids"
   ]
  },
  {
   "cell_type": "code",
   "execution_count": 14,
   "metadata": {},
   "outputs": [
    {
     "data": {
      "text/plain": [
       "array([[12.88235294, 21.23529412],\n",
       "       [14.125     , 36.6875    ],\n",
       "       [14.        , 49.13333333],\n",
       "       [14.36363636, 64.81818182],\n",
       "       [27.86666667, 22.73333333],\n",
       "       [28.11764706, 35.23529412],\n",
       "       [28.25      , 49.75      ],\n",
       "       [27.84615385, 64.61538462],\n",
       "       [42.4375    , 20.625     ],\n",
       "       [41.0625    , 36.0625    ],\n",
       "       [42.89473684, 49.42105263],\n",
       "       [42.8125    , 64.1875    ]])"
      ]
     },
     "execution_count": 14,
     "metadata": {},
     "output_type": "execute_result"
    }
   ],
   "source": [
    "compute_centroids(edge, idx, 12)"
   ]
  },
  {
   "cell_type": "code",
   "execution_count": 15,
   "metadata": {},
   "outputs": [],
   "source": [
    "# K近邻的整体代码\n",
    "def run_k_means(X, initial_centroids, max_iters):\n",
    "    m, n = X.shape\n",
    "    k = initial_centroids.shape[0]\n",
    "    idx = np.zeros(m)\n",
    "    centroids = initial_centroids\n",
    "    \n",
    "    for i in range(max_iters):\n",
    "        idx = find_closest_centroids(X, centroids)\n",
    "        centroids = compute_centroids(X, idx, k)\n",
    "    \n",
    "    return idx, centroids"
   ]
  },
  {
   "cell_type": "code",
   "execution_count": 16,
   "metadata": {},
   "outputs": [],
   "source": [
    "idx, centroids = run_k_means(edge, initial_centroids, 2)"
   ]
  },
  {
   "cell_type": "code",
   "execution_count": 17,
   "metadata": {},
   "outputs": [],
   "source": [
    "def show_result(edge, idx, centroids, k):\n",
    "    cluster1 = edge[np.where(idx == 0)[0],:]\n",
    "    cluster2 = edge[np.where(idx == 1)[0],:]\n",
    "    cluster3 = edge[np.where(idx == 2)[0],:]\n",
    "    cluster4 = edge[np.where(idx == 3)[0],:]\n",
    "    cluster5 = edge[np.where(idx == 4)[0],:]\n",
    "    cluster6 = edge[np.where(idx == 5)[0],:]\n",
    "    cluster7 = edge[np.where(idx == 6)[0],:]\n",
    "    cluster8 = edge[np.where(idx == 7)[0],:]\n",
    "    cluster9 = edge[np.where(idx == 8)[0],:]\n",
    "    cluster10 = edge[np.where(idx == 9)[0],:]\n",
    "    cluster11 = edge[np.where(idx == 10)[0],:]\n",
    "    cluster12 = edge[np.where(idx == 11)[0],:]\n",
    "\n",
    "    fig, ax = plt.subplots(figsize=(12,8))\n",
    "    plt.xlim(0, img_y)\n",
    "    plt.ylim(0, img_x)\n",
    "    \n",
    "    ax.scatter(cluster1[:,1], cluster1[:,0], s=40, color='#FF7F50', label='Cluster 1')\n",
    "    ax.scatter(cluster2[:,1], cluster2[:,0], s=40, color='#DC143C', label='Cluster 2')\n",
    "    ax.scatter(cluster3[:,1], cluster3[:,0], s=40, color='#00FFFF', label='Cluster 3')\n",
    "    ax.scatter(cluster4[:,1], cluster4[:,0], s=40, color='#00008B', label='Cluster 4')\n",
    "    ax.scatter(cluster5[:,1], cluster5[:,0], s=40, color='#B22222', label='Cluster 5')\n",
    "    ax.scatter(cluster6[:,1], cluster6[:,0], s=40, color='#FF00FF', label='Cluster 6')\n",
    "    ax.scatter(cluster7[:,1], cluster7[:,0], s=40, color='#808080', label='Cluster 7')\n",
    "    ax.scatter(cluster8[:,1], cluster8[:,0], s=40, color='#ADFF2F', label='Cluster 8')\n",
    "    ax.scatter(cluster9[:,1], cluster9[:,0], s=40, color='#FF69B4', label='Cluster 9')\n",
    "    ax.scatter(cluster10[:,1], cluster10[:,0], s=40, color='#4B0082', label='Cluster 10')\n",
    "    ax.scatter(cluster11[:,1], cluster11[:,0], s=40, color='#7CFC00', label='Cluster 11')\n",
    "    ax.scatter(cluster12[:,1], cluster12[:,0], s=40, color='#BA55D3', label='Cluster 12')\n",
    "    ax.scatter(centroids[:,1], centroids[:,0], s = 100)\n",
    "    ax.legend()\n",
    "    plt.show()"
   ]
  },
  {
   "cell_type": "code",
   "execution_count": 18,
   "metadata": {},
   "outputs": [
    {
     "data": {
      "image/png": "[encoded data removed]",
      "text/plain": [
       "<Figure size 864x576 with 1 Axes>"
      ]
     },
     "metadata": {
      "needs_background": "light"
     },
     "output_type": "display_data"
    }
   ],
   "source": [
    "show_result(edge, idx, centroids, 12)"
   ]
  },
  {
   "cell_type": "code",
   "execution_count": null,
   "metadata": {},
   "outputs": [],
   "source": []
  }
 ],
 "metadata": {
  "kernelspec": {
   "display_name": "Python 3",
   "language": "python",
   "name": "python3"
  },
  "language_info": {
   "codemirror_mode": {
    "name": "ipython",
    "version": 3
   },
   "file_extension": ".py",
   "mimetype": "text/x-python",
   "name": "python",
   "nbconvert_exporter": "python",
   "pygments_lexer": "ipython3",
   "version": "3.6.6"
  }
 },
 "nbformat": 4,
 "nbformat_minor": 2
}
