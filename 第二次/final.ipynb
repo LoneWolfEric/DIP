{
 "cells": [
  {
   "cell_type": "markdown",
   "metadata": {},
   "source": [
    "# 基于K近邻的啤酒瓶数量检测"
   ]
  },
  {
   "cell_type": "markdown",
   "metadata": {},
   "source": [
    "##  预处理\n",
    "\n",
    "---\n",
    "\n",
    "### 二值化 vs 边缘检测\n",
    "\n",
    "- 二值化优点:\n",
    "\n",
    "    计算连通域，简单\n",
    "    \n",
    "- 二值化缺点：\n",
    "\n",
    "    暗色的瓶盖无法检测，由于框的边缘过亮，无法做到两全其美(Bad/9)\n",
    "\n",
    "\n",
    "- 边缘检测优点：\n",
    "\n",
    "    边缘，与亮度关系较小，暗色瓶盖依然能检测\n",
    "\n",
    "- 边缘检测缺点：\n",
    "\n",
    "    框被边缘也会被检测，噪声大(Good/29)\n",
    "\n",
    "## 图像特点\n",
    "\n",
    "- 啤酒瓶装在框中\n",
    "- 啤酒瓶之间距离大致固定\n",
    "- 框大多是正的，有斜着放的但是倾斜角度不大\n"
   ]
  },
  {
   "cell_type": "markdown",
   "metadata": {},
   "source": []
  }
 ],
 "metadata": {
  "kernelspec": {
   "display_name": "Python 3",
   "language": "python",
   "name": "python3"
  },
  "language_info": {
   "codemirror_mode": {
    "name": "ipython",
    "version": 3
   },
   "file_extension": ".py",
   "mimetype": "text/x-python",
   "name": "python",
   "nbconvert_exporter": "python",
   "pygments_lexer": "ipython3",
   "version": "3.6.6"
  }
 },
 "nbformat": 4,
 "nbformat_minor": 2
}
